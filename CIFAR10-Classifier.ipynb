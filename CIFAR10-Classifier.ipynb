{
 "cells": [
  {
   "cell_type": "code",
   "execution_count": 1,
   "id": "dc54dbd8",
   "metadata": {},
   "outputs": [],
   "source": [
    "import torch\n",
    "import torch.nn as nn\n",
    "import torch.optim as optim\n",
    "import torchvision\n",
    "from torchvision import datasets\n",
    "import torchvision.transforms as transforms\n",
    "from torch.utils.data import DataLoader\n",
    "\n",
    "from sklearn.metrics import confusion_matrix\n",
    "import seaborn as sn\n",
    "import pandas as pd\n",
    "import numpy as np\n",
    "\n",
    "import matplotlib.pyplot as plt\n",
    "\n",
    "from PIL import Image\n",
    "\n",
    "%matplotlib inline"
   ]
  },
  {
   "cell_type": "code",
   "execution_count": 2,
   "id": "bf67e3eb",
   "metadata": {},
   "outputs": [],
   "source": [
    "batch_size = 128"
   ]
  },
  {
   "cell_type": "code",
   "execution_count": 3,
   "id": "887a6c89",
   "metadata": {},
   "outputs": [],
   "source": [
    "def data_preparer():\n",
    "    transform = transforms.Compose([transforms.ToTensor(), transforms.Normalize((0.5, 0.5, 0.5), (0.5, 0.5, 0.5))])\n",
    "    train_set = torchvision.datasets.CIFAR10(root='./data', train=True, download=True, transform=transform)\n",
    "    train_loader = DataLoader(train_set, batch_size=batch_size, shuffle=True)\n",
    "        \n",
    "    test_set = torchvision.datasets.CIFAR10(root='./data', train=False, download=True, transform=transform)\n",
    "    test_loader = DataLoader(test_set, batch_size=batch_size, shuffle=True)\n",
    "    \n",
    "    return train_loader, test_loader"
   ]
  },
  {
   "cell_type": "code",
   "execution_count": 4,
   "id": "ac76ddcf",
   "metadata": {},
   "outputs": [],
   "source": [
    "class Net(nn.Module):\n",
    "    def __init__(self, net_dim=32):\n",
    "        super().__init__()\n",
    "        self.conv1 = nn.Conv2d(3, net_dim*2, kernel_size=7, padding=1, bias=False)\n",
    "        self.batch1 = nn.BatchNorm2d(net_dim*2)\n",
    "        \n",
    "        self.conv2 = nn.Conv2d(net_dim*2, net_dim*4, kernel_size=5, padding=1, bias=False)\n",
    "        self.pool1 = nn.MaxPool2d((2,2))\n",
    "        self.batch2 = nn.BatchNorm2d(net_dim*4)\n",
    "        \n",
    "        self.conv3 = nn.Conv2d(net_dim*4, net_dim*8, kernel_size=3, padding=1, bias=False)\n",
    "        self.pool2 = nn.MaxPool2d((2, 2))\n",
    "        self.batch3 = nn.BatchNorm2d(net_dim*8)\n",
    "        self.drop = nn.Dropout()\n",
    "        \n",
    "        self.flat = nn.Flatten(1,3)\n",
    "                \n",
    "        self.linear = nn.Linear(9216, 10)\n",
    "            \n",
    "        self.relu = nn.ReLU()\n",
    "        \n",
    "    def forward(self, x):\n",
    "        x = self.relu(self.batch1(self.conv1(x)))\n",
    "        x = self.relu(self.batch2(self.pool1(self.conv2(x))))\n",
    "        x = self.drop(self.relu(self.batch3(self.pool2(self.conv3(x)))))\n",
    "        \n",
    "        x = self.flat(x)\n",
    "        \n",
    "        x = self.linear(x)\n",
    "        \n",
    "        return x"
   ]
  },
  {
   "cell_type": "code",
   "execution_count": 5,
   "id": "5e46f68f",
   "metadata": {},
   "outputs": [],
   "source": [
    "def log_metrics(cost, epoch, iteration, train_predictions, train_labels, test_predictions, test_labels, batch_size):\n",
    "    train_correct = ((train_predictions > 0.90) * train_labels).sum()\n",
    "    train_accuracy = train_correct / batch_size * 100\n",
    "\n",
    "    test_correct = ((test_predictions > 0.90) * test_labels).sum()\n",
    "    test_accuracy = test_correct / batch_size * 100\n",
    "        \n",
    "    print(\"Epoch %d, iteration %d, cost equals %f\" % (epoch, iteration, cost))\n",
    "    print(\"Train accuracy %f, Test accuracy %f\" % (train_accuracy, test_accuracy))"
   ]
  },
  {
   "cell_type": "code",
   "execution_count": 6,
   "id": "55c0984f",
   "metadata": {},
   "outputs": [],
   "source": [
    "def training_loop(train_loader, test_loader, net, criterion, optimizer, num_epochs, device='cuda:0'):\n",
    "        print(\"Training Started\")\n",
    "        iteration = 0\n",
    "        net.train()\n",
    "        \n",
    "        for epoch in range(1, num_epochs+1):\n",
    "            for x_train, labels_train in train_loader:\n",
    "                                \n",
    "                x_train = x_train.to(device)\n",
    "                labels_train = labels_train.to(device)\n",
    "                                \n",
    "                # Updating the Network\n",
    "                optimizer.zero_grad()\n",
    "                x_predictions = net(x_train)  \n",
    "                \n",
    "                cost = criterion(x_predictions, labels_train)\n",
    "                cost.backward()\n",
    "                optimizer.step()\n",
    "        \n",
    "        print(\"Training Ended\")\n",
    "        return net"
   ]
  },
  {
   "cell_type": "code",
   "execution_count": 7,
   "id": "33c961d2",
   "metadata": {
    "scrolled": true
   },
   "outputs": [
    {
     "name": "stdout",
     "output_type": "stream",
     "text": [
      "Files already downloaded and verified\n",
      "Files already downloaded and verified\n"
     ]
    }
   ],
   "source": [
    "classifier = Net().to('cuda:0')\n",
    "\n",
    "optimizer = optim.Adam(classifier.parameters(), lr=0.000275, weight_decay=0.003)\n",
    "\n",
    "loss = nn.CrossEntropyLoss()\n",
    "\n",
    "train_loader, test_loader = data_preparer()"
   ]
  },
  {
   "cell_type": "code",
   "execution_count": 8,
   "id": "9fe04978",
   "metadata": {
    "scrolled": true
   },
   "outputs": [
    {
     "name": "stdout",
     "output_type": "stream",
     "text": [
      "Training Started\n",
      "Training Ended\n"
     ]
    }
   ],
   "source": [
    "net = training_loop(train_loader, test_loader, classifier, loss, optimizer, 100)               "
   ]
  },
  {
   "cell_type": "code",
   "execution_count": 9,
   "id": "e8ff45f5",
   "metadata": {},
   "outputs": [
    {
     "name": "stdout",
     "output_type": "stream",
     "text": [
      "\n",
      "\n",
      "The model had a final test accuracy of 96.470001\n"
     ]
    }
   ],
   "source": [
    "net.eval()\n",
    "device = \"cuda:0\"\n",
    "\n",
    "correct = 0\n",
    "test_length = 0\n",
    "for x_test, labels_test in test_loader:\n",
    "    test_length += len(labels_test)\n",
    "    \n",
    "    x_test = x_test.to(device)\n",
    "    labels_test = nn.functional.one_hot(labels_test, 10).to(device)\n",
    "    \n",
    "    with torch.no_grad():\n",
    "        prediction_test = net(x_test)\n",
    "\n",
    "    num_correct_batch = ((prediction_test > 0.90) * labels_test).sum()\n",
    "    correct += num_correct_batch\n",
    "    \n",
    "model_accuracy = correct / test_length * 100\n",
    "print(\"\\n\\nThe model had a final test accuracy of %f\" % model_accuracy)"
   ]
  }
 ],
 "metadata": {
  "kernelspec": {
   "display_name": "Python 3 (ipykernel)",
   "language": "python",
   "name": "python3"
  },
  "language_info": {
   "codemirror_mode": {
    "name": "ipython",
    "version": 3
   },
   "file_extension": ".py",
   "mimetype": "text/x-python",
   "name": "python",
   "nbconvert_exporter": "python",
   "pygments_lexer": "ipython3",
   "version": "3.9.12"
  }
 },
 "nbformat": 4,
 "nbformat_minor": 5
}
